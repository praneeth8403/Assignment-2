{
 "cells": [
  {
   "cell_type": "markdown",
   "id": "2120d37d",
   "metadata": {},
   "source": [
    "## 1.What are the two values of the Boolean data type? How do you write them?"
   ]
  },
  {
   "cell_type": "markdown",
   "id": "473ab76f",
   "metadata": {},
   "source": [
    "The Boolean data type has two possible values: True and False. These values represent the logical concepts of true and false, respectively. It's important to note that these values are case-sensitive, so they must be written with an uppercase \"T\" and \"F.\"\n",
    "\n",
    "Here's an example of how you would assign these values to a variable:"
   ]
  },
  {
   "cell_type": "code",
   "execution_count": 1,
   "id": "c8d0bb02",
   "metadata": {},
   "outputs": [],
   "source": [
    "# Assigning Boolean values\n",
    "my_variable = True\n",
    "another_variable = False"
   ]
  },
  {
   "cell_type": "markdown",
   "id": "21590998",
   "metadata": {},
   "source": [
    "In Python, Boolean values are commonly used for conditions and control flow in programming. They are fundamental in decision-making, loop control, and logical operations."
   ]
  },
  {
   "cell_type": "markdown",
   "id": "cecfd424",
   "metadata": {},
   "source": [
    "## 2. What are the three different types of Boolean operators?"
   ]
  },
  {
   "cell_type": "markdown",
   "id": "1a943895",
   "metadata": {},
   "source": [
    "There are three different types of Boolean operators: and, or, and not. These operators are used to perform logical operations on Boolean values or expressions.\n",
    " \n",
    "1.and: The and operator returns True if both operands or expressions are True. Otherwise, it returns False. It can be thought of as a logical conjunction.\n",
    "\n",
    "2.or: The or operator returns True if at least one of the operands or expressions is True. If both operands are False, it returns False. It can be thought of as a logical disjunction.\n",
    "\n",
    "3.not: The not operator is a unary operator that negates the value of a Boolean expression. It returns True if the expression is False, and vice versa. It can be thought of as a logical negation."
   ]
  },
  {
   "cell_type": "markdown",
   "id": "87440e32",
   "metadata": {},
   "source": [
    "## 3. Make a list of each Boolean operators truth tables (i.e. every possible combination of Boolean values for the operator and what it evaluate )."
   ]
  },
  {
   "cell_type": "markdown",
   "id": "d7d5ae9a",
   "metadata": {},
   "source": [
    "1. and Operator Truth Table:\n",
    "Operand 1  Operand 2\tResult\n",
    "False\t   False\t    False\n",
    "False\t   True\t        False\n",
    "True\t   False\t    False\n",
    "True\t   True\t        True\n",
    "\n",
    "2. or Operator Truth Table:\n",
    "Operand 1\tOperand 2\tResult\n",
    "False\t    False\t     False\n",
    "False\t    True\t     True\n",
    "True\t    False\t     True\n",
    "True\t    True\t     True\n",
    "\n",
    "3. not Operator Truth Table:\n",
    "Operand\tResult\n",
    "False\tTrue\n",
    "True\tFalse\n"
   ]
  },
  {
   "cell_type": "markdown",
   "id": "ab71385c",
   "metadata": {},
   "source": [
    "## 4. What are the values of the following expressions?\n",
    "## (5 > 4) and (3 == 5)\n",
    "## not (5 >4)\n",
    "## (5 >4) or (3 == 5)\n",
    "## not ((5 >4) or (3 == 5))\n",
    "## (True and True) and (True == False)\n",
    "## (not False) or (not True)"
   ]
  },
  {
   "cell_type": "code",
   "execution_count": 2,
   "id": "dc15b276",
   "metadata": {},
   "outputs": [
    {
     "data": {
      "text/plain": [
       "False"
      ]
     },
     "execution_count": 2,
     "metadata": {},
     "output_type": "execute_result"
    }
   ],
   "source": [
    "(5 > 4) and (3 == 5)"
   ]
  },
  {
   "cell_type": "code",
   "execution_count": 3,
   "id": "af74f4a2",
   "metadata": {},
   "outputs": [
    {
     "data": {
      "text/plain": [
       "False"
      ]
     },
     "execution_count": 3,
     "metadata": {},
     "output_type": "execute_result"
    }
   ],
   "source": [
    "not (5 >4)"
   ]
  },
  {
   "cell_type": "code",
   "execution_count": 4,
   "id": "7f919939",
   "metadata": {},
   "outputs": [
    {
     "data": {
      "text/plain": [
       "True"
      ]
     },
     "execution_count": 4,
     "metadata": {},
     "output_type": "execute_result"
    }
   ],
   "source": [
    "(5 >4) or (3 == 5)"
   ]
  },
  {
   "cell_type": "code",
   "execution_count": 5,
   "id": "9f148c03",
   "metadata": {},
   "outputs": [
    {
     "data": {
      "text/plain": [
       "False"
      ]
     },
     "execution_count": 5,
     "metadata": {},
     "output_type": "execute_result"
    }
   ],
   "source": [
    "not ((5 >4) or (3 == 5))"
   ]
  },
  {
   "cell_type": "code",
   "execution_count": 6,
   "id": "90fc1692",
   "metadata": {},
   "outputs": [
    {
     "data": {
      "text/plain": [
       "False"
      ]
     },
     "execution_count": 6,
     "metadata": {},
     "output_type": "execute_result"
    }
   ],
   "source": [
    "(True and True) and (True == False)"
   ]
  },
  {
   "cell_type": "code",
   "execution_count": 7,
   "id": "f44f7d0b",
   "metadata": {},
   "outputs": [
    {
     "data": {
      "text/plain": [
       "True"
      ]
     },
     "execution_count": 7,
     "metadata": {},
     "output_type": "execute_result"
    }
   ],
   "source": [
    "(not False) or (not True)"
   ]
  },
  {
   "cell_type": "markdown",
   "id": "29bd6365",
   "metadata": {},
   "source": [
    "## 5. What are the six comparison operators?"
   ]
  },
  {
   "cell_type": "markdown",
   "id": "d5509588",
   "metadata": {},
   "source": [
    "1.Equal to: == - Checks if two operands are equal.\n",
    "2.Not equal to: != - Checks if two operands are not equal.\n",
    "3.Greater than: > - Checks if the left operand is greater than the right operand.\n",
    "4.Less than: < - Checks if the left operand is less than the right operand.\n",
    "5.Greater than or equal to: >= - Checks if the left operand is greater than or equal to the right operand.\n",
    "6.Less than or equal to: <= - Checks if the left operand is less than or equal to the right operand.\n",
    "These comparison operators are used to compare values and produce Boolean results (True or False) based on the comparison result."
   ]
  },
  {
   "cell_type": "markdown",
   "id": "9e7962f6",
   "metadata": {},
   "source": [
    "## 6. How do you tell the difference between the equal to and assignment operators?Describe a condition and when you would use one."
   ]
  },
  {
   "cell_type": "markdown",
   "id": "c0e4c417",
   "metadata": {},
   "source": [
    "1.Equal to operator (==): The equal to operator is used for comparison. It checks if the values on the left and right sides are equal. It returns True if the values are equal and False otherwise.\n",
    "\n",
    "2.Assignment operator (=): The assignment operator is used to assign a value to a variable. It assigns the value on the right side to the variable on the left side."
   ]
  },
  {
   "cell_type": "markdown",
   "id": "c8d13cb8",
   "metadata": {},
   "source": [
    "## 7. Identify the three blocks in this code:\n",
    "## spam = 0\n",
    "## if spam == 10:\n",
    "## print(eggs)\n",
    "## if spam > 5:\n",
    "## print(bacon)\n",
    "## else:\n",
    "## print(ham)\n",
    "## print(spam)\n",
    "## print(spam)"
   ]
  },
  {
   "cell_type": "markdown",
   "id": "0e3dde28",
   "metadata": {},
   "source": [
    "ans: To identify the three blocks in the given code, we can look for the sections of code that are indented. In Python, indentation is used to define blocks of code. Based on the indentation, we can determine the separate blocks:\n",
    "Block 1:\n",
    "if spam == 10:\n",
    "    print('eggs')\n",
    "This block is an if statement with the condition spam == 10. If the condition is true, it will execute the indented code print('eggs'). However, since the value of spam is initially 0, this block will not be executed.\n",
    "\n",
    "Block 2:\n",
    "if spam > 5:\n",
    "    print('bacon')\n",
    "else:\n",
    "    print('ham')\n",
    "This block is another if statement. It checks the condition spam > 5. If the condition is true, it will execute print('bacon'). Otherwise, if the condition is false, it will execute print('ham'). Since the value of spam is 0, which is not greater than 5, the else block will be executed, and ham will be printed.\n",
    "\n",
    "Block 3:\n",
    "print('spam')\n",
    "print('spam')\n",
    "This block consists of two print statements, which will always execute regardless of the conditions in the previous if statements. It will print spam twice, each on a separate line.\n",
    "\n",
    "To summarize, the three identified blocks are:\n",
    "\n",
    "Block 1: The if statement with the condition spam == 10.\n",
    "Block 2: The if-else statement with the condition spam > 5.\n",
    "Block 3: The two print statements that always execute."
   ]
  },
  {
   "cell_type": "markdown",
   "id": "0229ebc3",
   "metadata": {},
   "source": [
    "## 8. Write code that prints Hello if 1 is stored in spam, prints Howdy if 2 is stored in spam, and prints Greetings! if anything else is stored in spam."
   ]
  },
  {
   "cell_type": "code",
   "execution_count": 12,
   "id": "64a9a6a0",
   "metadata": {},
   "outputs": [
    {
     "name": "stdout",
     "output_type": "stream",
     "text": [
      "Hello\n"
     ]
    }
   ],
   "source": [
    "spam = 1 #lets assume spam is equal to '1'\n",
    "\n",
    "if spam == 1:\n",
    "    print(\"Hello\")\n",
    "elif spam == 2:\n",
    "    print(\"Howdy\")\n",
    "else:\n",
    "    print(\"Greetings!\")"
   ]
  },
  {
   "cell_type": "markdown",
   "id": "28e12625",
   "metadata": {},
   "source": [
    "## 9.If your programme is stuck in an endless loop, what keys you’ll press?"
   ]
  },
  {
   "cell_type": "markdown",
   "id": "938101ed",
   "metadata": {},
   "source": [
    "if program is stuck in an endless loop and you want to stop its execution, we can typically press the keyboard combination Ctrl + C (Control key and C key together) in the terminal or command prompt where the program is running. This key combination is a commonly used interrupt signal that allows us to terminate the currently running process."
   ]
  },
  {
   "cell_type": "markdown",
   "id": "b3adfdf4",
   "metadata": {},
   "source": [
    "## 10. How can you tell the difference between break and continue?"
   ]
  },
  {
   "cell_type": "markdown",
   "id": "3b436ac3",
   "metadata": {},
   "source": [
    "1. break statement:\n",
    "\n",
    "When encountered within a loop (such as for or while), the break statement immediately terminates the loop execution and transfers control to the next statement after the loop.\n",
    "\n",
    "It is typically used to exit the loop prematurely when a certain condition is met, regardless of whether the loop has completed all iterations.\n",
    "\n",
    "2. continue statement:\n",
    "\n",
    "When encountered within a loop, the continue statement skips the rest of the code within the loop body for the current iteration and moves to the next iteration.\n",
    "\n",
    "It is used to bypass certain iterations of the loop based on a specific condition, without terminating the entire loop."
   ]
  },
  {
   "cell_type": "markdown",
   "id": "5c537e41",
   "metadata": {},
   "source": [
    "## 11. In a for loop, what is the difference between range(10), range(0, 10), and range(0, 10, 1)?"
   ]
  },
  {
   "cell_type": "markdown",
   "id": "5330d0e7",
   "metadata": {},
   "source": [
    "ans: range(10), range(0, 10), and range(0, 10, 1) produce the same sequence of values in a for loop, which includes numbers from      0 to 9. The difference lies in how the start, end, and step values are defined explicitly or implicitly."
   ]
  },
  {
   "cell_type": "markdown",
   "id": "3ad18f57",
   "metadata": {},
   "source": [
    "## 12. Write a short program that prints the numbers 1 to 10 using a for loop. Then write an equivalent program that prints the numbers 1 to 10 using a while loop."
   ]
  },
  {
   "cell_type": "code",
   "execution_count": 13,
   "id": "abbd73b9",
   "metadata": {},
   "outputs": [
    {
     "name": "stdout",
     "output_type": "stream",
     "text": [
      "1\n",
      "2\n",
      "3\n",
      "4\n",
      "5\n",
      "6\n",
      "7\n",
      "8\n",
      "9\n",
      "10\n"
     ]
    }
   ],
   "source": [
    "# Using a for loop\n",
    "for i in range(1, 11):\n",
    "    print(i)"
   ]
  },
  {
   "cell_type": "code",
   "execution_count": 14,
   "id": "a534b168",
   "metadata": {},
   "outputs": [
    {
     "name": "stdout",
     "output_type": "stream",
     "text": [
      "1\n",
      "2\n",
      "3\n",
      "4\n",
      "5\n",
      "6\n",
      "7\n",
      "8\n",
      "9\n",
      "10\n"
     ]
    }
   ],
   "source": [
    "# Using a while loop\n",
    "i = 1\n",
    "while i <= 10:\n",
    "    print(i)\n",
    "    i += 1"
   ]
  },
  {
   "cell_type": "markdown",
   "id": "a9c23bd8",
   "metadata": {},
   "source": [
    "## 13. If you had a function named bacon() inside a module named spam, how would you call it after importing spam?"
   ]
  },
  {
   "cell_type": "markdown",
   "id": "5ae45685",
   "metadata": {},
   "source": [
    "import spam\n",
    "spam.bacon()\n",
    "\n",
    "In this case, you import the spam module using the import statement. Then, to call the bacon() function, you use the dot notation (spam.bacon()) to specify the module name (spam) followed by the function name (bacon()). This allows you to access and invoke the bacon() function from the spam module."
   ]
  },
  {
   "cell_type": "code",
   "execution_count": null,
   "id": "7321cade",
   "metadata": {},
   "outputs": [],
   "source": []
  }
 ],
 "metadata": {
  "kernelspec": {
   "display_name": "Python 3 (ipykernel)",
   "language": "python",
   "name": "python3"
  },
  "language_info": {
   "codemirror_mode": {
    "name": "ipython",
    "version": 3
   },
   "file_extension": ".py",
   "mimetype": "text/x-python",
   "name": "python",
   "nbconvert_exporter": "python",
   "pygments_lexer": "ipython3",
   "version": "3.9.13"
  }
 },
 "nbformat": 4,
 "nbformat_minor": 5
}
